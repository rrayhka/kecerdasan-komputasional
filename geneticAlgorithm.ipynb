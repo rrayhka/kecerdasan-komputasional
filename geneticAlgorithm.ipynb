{
 "cells": [
  {
   "cell_type": "code",
   "execution_count": 1,
   "metadata": {},
   "outputs": [],
   "source": [
    "import random\n",
    "import numpy as np\n",
    "import matplotlib.pyplot as plt"
   ]
  },
  {
   "cell_type": "markdown",
   "metadata": {},
   "source": [
    "# Function objective "
   ]
  },
  {
   "cell_type": "code",
   "execution_count": 2,
   "metadata": {},
   "outputs": [],
   "source": [
    "def f(x):\n",
    "    return x ** 2"
   ]
  },
  {
   "cell_type": "markdown",
   "metadata": {},
   "source": [
    "# Bilangan bulat antara 0 sampai 31"
   ]
  },
  {
   "cell_type": "code",
   "execution_count": 3,
   "metadata": {},
   "outputs": [],
   "source": [
    "randomInt = []\n",
    "for i in range(5):\n",
    "    randomInt.append(random.randint(0, 31))"
   ]
  },
  {
   "cell_type": "code",
   "execution_count": 4,
   "metadata": {},
   "outputs": [
    {
     "data": {
      "text/plain": [
       "5"
      ]
     },
     "execution_count": 4,
     "metadata": {},
     "output_type": "execute_result"
    }
   ],
   "source": [
    "len(randomInt)"
   ]
  },
  {
   "cell_type": "code",
   "execution_count": 5,
   "metadata": {},
   "outputs": [
    {
     "name": "stdout",
     "output_type": "stream",
     "text": [
      "Random Integer:  12\n",
      "Random Integer:  28\n",
      "Random Integer:  17\n",
      "Random Integer:  14\n",
      "Random Integer:  24\n"
     ]
    }
   ],
   "source": [
    "for i in randomInt:\n",
    "    print(\"Random Integer: \", i)"
   ]
  },
  {
   "cell_type": "markdown",
   "metadata": {},
   "source": [
    "# -\tBuatlah Populasi awal yang terdiri dari 5 kromosom (masing-masing kromosom adalah representasi biner dari bilangan bulat) dengan nilai acak antara 0 dan 31"
   ]
  },
  {
   "cell_type": "code",
   "execution_count": 6,
   "metadata": {},
   "outputs": [],
   "source": [
    "def intToBinary(x):\n",
    "    return bin(x).replace(\"0b\", \"\").zfill(5)"
   ]
  },
  {
   "cell_type": "code",
   "execution_count": 7,
   "metadata": {},
   "outputs": [],
   "source": [
    "def buatPopulasi(randomInt):\n",
    "    populasi = []\n",
    "    for i in randomInt:\n",
    "        populasi.append(intToBinary(i))\n",
    "    return populasi"
   ]
  },
  {
   "cell_type": "code",
   "execution_count": 8,
   "metadata": {},
   "outputs": [],
   "source": [
    "populasi = buatPopulasi(randomInt)"
   ]
  },
  {
   "cell_type": "code",
   "execution_count": 9,
   "metadata": {},
   "outputs": [
    {
     "name": "stdout",
     "output_type": "stream",
     "text": [
      "['01100', '11100', '10001', '01110', '11000']\n"
     ]
    }
   ],
   "source": [
    "print(populasi)"
   ]
  },
  {
   "cell_type": "markdown",
   "metadata": {},
   "source": [
    "# -\tHitung Fitness Setiap Kromosom dari fungsi objektif"
   ]
  },
  {
   "cell_type": "code",
   "execution_count": 10,
   "metadata": {},
   "outputs": [],
   "source": [
    "def hitungFitness(populasi):\n",
    "    fitness = []\n",
    "    for i in range(len(populasi)):\n",
    "        fitness.append(f(randomInt[i]))\n",
    "    return fitness"
   ]
  },
  {
   "cell_type": "code",
   "execution_count": 11,
   "metadata": {},
   "outputs": [
    {
     "name": "stdout",
     "output_type": "stream",
     "text": [
      "[144, 784, 289, 196, 576]\n"
     ]
    }
   ],
   "source": [
    "print(hitungFitness(populasi))"
   ]
  },
  {
   "cell_type": "code",
   "execution_count": 12,
   "metadata": {},
   "outputs": [
    {
     "name": "stdout",
     "output_type": "stream",
     "text": [
      "Fitness of chromossome:  01100  =  144\n",
      "Fitness of chromossome:  11100  =  784\n",
      "Fitness of chromossome:  10001  =  289\n",
      "Fitness of chromossome:  01110  =  196\n",
      "Fitness of chromossome:  11000  =  576\n"
     ]
    }
   ],
   "source": [
    "for i in range(len(randomInt)):\n",
    "    print(\"Fitness of chromossome: \", populasi[i], \" = \", f(randomInt[i]))\n"
   ]
  },
  {
   "cell_type": "code",
   "execution_count": 13,
   "metadata": {},
   "outputs": [],
   "source": [
    "fitness = hitungFitness(populasi)"
   ]
  },
  {
   "cell_type": "code",
   "execution_count": 14,
   "metadata": {},
   "outputs": [
    {
     "name": "stdout",
     "output_type": "stream",
     "text": [
      "[144, 784, 289, 196, 576]\n"
     ]
    }
   ],
   "source": [
    "print(fitness)"
   ]
  },
  {
   "cell_type": "markdown",
   "metadata": {},
   "source": [
    "# -\tHitung Total Fitness Populasi"
   ]
  },
  {
   "cell_type": "code",
   "execution_count": 15,
   "metadata": {},
   "outputs": [],
   "source": [
    "def hitungTotalFitness(fitness):\n",
    "    return sum(fitness)"
   ]
  },
  {
   "cell_type": "code",
   "execution_count": 16,
   "metadata": {},
   "outputs": [],
   "source": [
    "totalFitness = hitungTotalFitness(fitness)"
   ]
  },
  {
   "cell_type": "code",
   "execution_count": 17,
   "metadata": {},
   "outputs": [
    {
     "name": "stdout",
     "output_type": "stream",
     "text": [
      "1989\n"
     ]
    }
   ],
   "source": [
    "print(totalFitness)"
   ]
  },
  {
   "cell_type": "markdown",
   "metadata": {},
   "source": [
    "# -\tHitung Peluang Seleksi Setiap Kromosom"
   ]
  },
  {
   "cell_type": "code",
   "execution_count": 18,
   "metadata": {},
   "outputs": [],
   "source": [
    "def peluang(fitness, totalFitness):\n",
    "    peluang = []\n",
    "    for i in range(len(fitness)):\n",
    "        peluang.append(fitness[i] / totalFitness)\n",
    "    return peluang"
   ]
  },
  {
   "cell_type": "code",
   "execution_count": 19,
   "metadata": {},
   "outputs": [],
   "source": [
    "peluang = peluang(fitness, totalFitness)"
   ]
  },
  {
   "cell_type": "code",
   "execution_count": 20,
   "metadata": {},
   "outputs": [
    {
     "name": "stdout",
     "output_type": "stream",
     "text": [
      "[0.07239819004524888, 0.3941679235796883, 0.1452991452991453, 0.09854198089492207, 0.2895927601809955]\n"
     ]
    }
   ],
   "source": [
    "print(peluang)"
   ]
  },
  {
   "cell_type": "code",
   "execution_count": 21,
   "metadata": {},
   "outputs": [
    {
     "name": "stdout",
     "output_type": "stream",
     "text": [
      "1.0\n"
     ]
    }
   ],
   "source": [
    "print(sum(peluang))"
   ]
  },
  {
   "cell_type": "markdown",
   "metadata": {},
   "source": [
    "# -\tGunakan Roulette Wheel untuk menentukan 2 kromosom yang terpilih"
   ]
  },
  {
   "cell_type": "code",
   "execution_count": 22,
   "metadata": {},
   "outputs": [],
   "source": [
    "def roadWheel(x):\n",
    "    hasil = {}\n",
    "    a = 0\n",
    "    for i in range(len(x)):\n",
    "        hasil[\"x\"+str(i+1)] = [a, a+x[i]]\n",
    "        a += x[i]\n",
    "    return hasil"
   ]
  },
  {
   "cell_type": "code",
   "execution_count": 23,
   "metadata": {},
   "outputs": [],
   "source": [
    "rouletteWheel = roadWheel(peluang)"
   ]
  },
  {
   "cell_type": "code",
   "execution_count": 24,
   "metadata": {},
   "outputs": [
    {
     "data": {
      "text/plain": [
       "{'x1': [0, 0.07239819004524888],\n",
       " 'x2': [0.07239819004524888, 0.46656611362493716],\n",
       " 'x3': [0.46656611362493716, 0.6118652589240825],\n",
       " 'x4': [0.6118652589240825, 0.7104072398190046],\n",
       " 'x5': [0.7104072398190046, 1.0]}"
      ]
     },
     "execution_count": 24,
     "metadata": {},
     "output_type": "execute_result"
    }
   ],
   "source": [
    "rouletteWheel"
   ]
  },
  {
   "cell_type": "code",
   "execution_count": 25,
   "metadata": {},
   "outputs": [
    {
     "data": {
      "image/png": "[encoded data removed]",
      "text/plain": [
       "<Figure size 640x480 with 1 Axes>"
      ]
     },
     "metadata": {},
     "output_type": "display_data"
    }
   ],
   "source": [
    "interval_lengths = [rouletteWheel[key][1] - rouletteWheel[key][0] for key in rouletteWheel]\n",
    "labels = rouletteWheel.keys()\n",
    "plt.pie(interval_lengths, labels=labels, autopct='%1.1f%%', startangle=90)\n",
    "plt.title('Roulette Wheel')\n",
    "plt.axis('equal') \n",
    "plt.show()"
   ]
  },
  {
   "cell_type": "markdown",
   "metadata": {},
   "source": [
    "# -\tLakukan proses crossover, dengan menggunakan single-point crossover (bebas titik point yang dipilih)"
   ]
  },
  {
   "cell_type": "code",
   "execution_count": 26,
   "metadata": {},
   "outputs": [
    {
     "name": "stdout",
     "output_type": "stream",
     "text": [
      "['01100', '11100', '10001', '01110', '11000']\n"
     ]
    }
   ],
   "source": [
    "print(populasi)"
   ]
  },
  {
   "cell_type": "code",
   "execution_count": 27,
   "metadata": {},
   "outputs": [
    {
     "name": "stdout",
     "output_type": "stream",
     "text": [
      "11\n"
     ]
    }
   ],
   "source": [
    "# untuk mengambil awal yang masih sama\n",
    "print(populasi[1][:2])"
   ]
  },
  {
   "cell_type": "code",
   "execution_count": 28,
   "metadata": {},
   "outputs": [
    {
     "name": "stdout",
     "output_type": "stream",
     "text": [
      "100\n"
     ]
    }
   ],
   "source": [
    "# untuk mengambil akhir yang akan dicrossover\n",
    "print(populasi[1][2:])"
   ]
  },
  {
   "cell_type": "code",
   "execution_count": 29,
   "metadata": {},
   "outputs": [],
   "source": [
    "# def crossover(population):\n",
    "#     new_population = []\n",
    "#     for _ in range(len(population)):\n",
    "#         parent1 = random.choice(population)\n",
    "#         parent2 = random.choice(population)\n",
    "#         random_point = random.randint(1, len(parent1) - 1)\n",
    "#         child = parent1[:random_point] + parent2[random_point:]\n",
    "#         new_population.append(child)\n",
    "\n",
    "#     return new_population"
   ]
  },
  {
   "cell_type": "code",
   "execution_count": 30,
   "metadata": {},
   "outputs": [
    {
     "name": "stdout",
     "output_type": "stream",
     "text": [
      "['01100', '11100', '10001', '01110', '11000']\n"
     ]
    }
   ],
   "source": [
    "print(populasi)"
   ]
  },
  {
   "cell_type": "code",
   "execution_count": 31,
   "metadata": {},
   "outputs": [],
   "source": [
    "def crossover(populasi):\n",
    "    crossPopulasi = []\n",
    "    for i in range(len(populasi)):\n",
    "        parent1 = populasi[i]\n",
    "        parent2 = populasi[(i + 1) % len(populasi)]\n",
    "        # randomPointSingleCross = random.randint(1, len(parent1) - 1)\n",
    "        randomPointSingleCross = 2\n",
    "        child = parent1[:randomPointSingleCross] + parent2[randomPointSingleCross:]\n",
    "        crossPopulasi.append(child)\n",
    "    return crossPopulasi\n",
    "crossPopulasi = crossover(populasi)"
   ]
  },
  {
   "cell_type": "code",
   "execution_count": 32,
   "metadata": {},
   "outputs": [
    {
     "data": {
      "text/plain": [
       "['01100', '11001', '10110', '01000', '11100']"
      ]
     },
     "execution_count": 32,
     "metadata": {},
     "output_type": "execute_result"
    }
   ],
   "source": [
    "crossPopulasi"
   ]
  },
  {
   "cell_type": "markdown",
   "metadata": {},
   "source": [
    "# -\tLakukan proses mutasi, dengan menggunakan titik point yang acak"
   ]
  },
  {
   "cell_type": "code",
   "execution_count": 33,
   "metadata": {},
   "outputs": [
    {
     "name": "stdout",
     "output_type": "stream",
     "text": [
      "1 3\n",
      "3 4\n",
      "1 2\n",
      "0 1\n",
      "3 4\n"
     ]
    }
   ],
   "source": [
    "def mutasi(crossPopulasi):\n",
    "    hasilMutasi = []\n",
    "    for kromosom in crossPopulasi:\n",
    "        # kromosom_length = len(kromosom)\n",
    "        point1 = random.randint(0, len(kromosom) - 2)\n",
    "        point2 = random.randint(point1 + 1, len(kromosom) - 1)\n",
    "        print(point1, point2)\n",
    "        \n",
    "        kromosomBaru = \"\"\n",
    "        for index in range(len(kromosom)):\n",
    "            if index < point1 or index > point2:\n",
    "                kromosomBaru += kromosom[index]\n",
    "            else:\n",
    "                if kromosom[index] == '1':\n",
    "                    kromosomBaru += '0'\n",
    "                else:\n",
    "                    kromosomBaru += '1'\n",
    "        \n",
    "        hasilMutasi.append(kromosomBaru)\n",
    "    \n",
    "    return hasilMutasi\n",
    "\n",
    "\n",
    "mutasi = mutasi(crossPopulasi)\n"
   ]
  },
  {
   "cell_type": "code",
   "execution_count": 34,
   "metadata": {},
   "outputs": [
    {
     "name": "stdout",
     "output_type": "stream",
     "text": [
      "['01100', '11001', '10110', '01000', '11100']\n"
     ]
    }
   ],
   "source": [
    "print(crossPopulasi)"
   ]
  },
  {
   "cell_type": "code",
   "execution_count": 35,
   "metadata": {},
   "outputs": [
    {
     "data": {
      "text/plain": [
       "['00010', '11010', '11010', '10000', '11111']"
      ]
     },
     "execution_count": 35,
     "metadata": {},
     "output_type": "execute_result"
    }
   ],
   "source": [
    "mutasi"
   ]
  }
 ],
 "metadata": {
  "kernelspec": {
   "display_name": "Python 3",
   "language": "python",
   "name": "python3"
  },
  "language_info": {
   "codemirror_mode": {
    "name": "ipython",
    "version": 3
   },
   "file_extension": ".py",
   "mimetype": "text/x-python",
   "name": "python",
   "nbconvert_exporter": "python",
   "pygments_lexer": "ipython3",
   "version": "3.12.2"
  }
 },
 "nbformat": 4,
 "nbformat_minor": 2
}
